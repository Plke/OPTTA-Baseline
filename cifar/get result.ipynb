{
 "cells": [
  {
   "cell_type": "code",
   "execution_count": 5,
   "metadata": {},
   "outputs": [],
   "source": [
    "import numpy as np\n",
    "import os "
   ]
  },
  {
   "cell_type": "code",
   "execution_count": 6,
   "metadata": {},
   "outputs": [],
   "source": [
    "dataset=\"cifar10\"\n",
    "method=\"ostta_neigh_only_100\"\n",
    "\n",
    "method_name=\"./output/{}/{}\".format(dataset,method)\n"
   ]
  },
  {
   "cell_type": "code",
   "execution_count": 7,
   "metadata": {},
   "outputs": [
    {
     "name": "stdout",
     "output_type": "stream",
     "text": [
      "61.97\n",
      "72.75\n",
      "84.66\n",
      "84.57\n",
      "84.42\n",
      "64.63\n",
      "78.48\n",
      "84.91\n",
      "84.98\n",
      "84.53\n",
      "65.11\n",
      "76.28\n",
      "85.22\n",
      "85.33\n",
      "85.24\n",
      "62.04\n",
      "74.76\n",
      "85.12\n",
      "85.46\n",
      "85.24\n",
      "58.34\n",
      "71.29\n",
      "80.78\n",
      "85.48\n",
      "85.27\n",
      "ostta_neigh_cifar10_lr_0.001_alpha_0.0_0.1_ent_gamma_0.99_ncluster_10_nr_3.txt 85.48\n"
     ]
    }
   ],
   "source": [
    "name_list=os.listdir(method_name)\n",
    "max=0\n",
    "max_name=\"\"\n",
    "for name in name_list:\n",
    "  with open(method_name+'/'+name, 'r', encoding='utf-8') as f:\n",
    "    lines = f.readlines()\n",
    "    try:\n",
    "      acc= eval(lines[-2][24:29]) \n",
    "    except:\n",
    "      print(name)\n",
    "      continue\n",
    "    if acc>max:\n",
    "      max=acc\n",
    "      max_name=name\n",
    "    print(acc)\n",
    "    # # print(len(lines[-2]))\n",
    "    # auroc= eval(lines[-1][33:38])\n",
    "    # fpr95tpr= eval(lines[-4][42:47])\n",
    "    # oscr= eval(lines[-3][52:57])\n",
    "    # print(acc, auroc, fpr95tpr, oscr)\n",
    "print(max_name,max)"
   ]
  },
  {
   "cell_type": "code",
   "execution_count": 8,
   "metadata": {},
   "outputs": [
    {
     "ename": "SyntaxError",
     "evalue": "invalid syntax (440571641.py, line 6)",
     "output_type": "error",
     "traceback": [
      "\u001b[0;36m  File \u001b[0;32m\"/tmp/ipykernel_1475/440571641.py\"\u001b[0;36m, line \u001b[0;32m6\u001b[0m\n\u001b[0;31m    acc=lines[-2].strip()[]\u001b[0m\n\u001b[0m                          ^\u001b[0m\n\u001b[0;31mSyntaxError\u001b[0m\u001b[0;31m:\u001b[0m invalid syntax\n"
     ]
    }
   ],
   "source": [
    "name_list=os.listdir(first_method_name)\n",
    "for name in name_list:\n",
    "  max_acc=0\n",
    "  with open(first_method_name+'/'+name, 'r', encoding='utf-8') as f:\n",
    "    lines = f.readlines()\n",
    "    acc=lines[-2].strip()[] \n",
    "\n",
    "    if lines[-2]>max_acc:\n",
    "      max_acc=lines[-2]\n",
    "\n",
    "\n"
   ]
  },
  {
   "cell_type": "code",
   "execution_count": null,
   "metadata": {},
   "outputs": [],
   "source": []
  }
 ],
 "metadata": {
  "kernelspec": {
   "display_name": "Python 3 (ipykernel)",
   "language": "python",
   "name": "python3"
  },
  "language_info": {
   "codemirror_mode": {
    "name": "ipython",
    "version": 3
   },
   "file_extension": ".py",
   "mimetype": "text/x-python",
   "name": "python",
   "nbconvert_exporter": "python",
   "pygments_lexer": "ipython3",
   "version": "3.8.10"
  }
 },
 "nbformat": 4,
 "nbformat_minor": 4
}
